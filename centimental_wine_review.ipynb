{
 "cells": [
  {
   "cell_type": "markdown",
   "metadata": {},
   "source": [
    "2.1 데이터 정리\n",
    "\n",
    "먼저 데이터를 로드하고 결측값을 처리하며 필요 없는 열을 제거합니다.\n",
    "\n",
    "결측치 처리 전과 후 데이터 수를 비교하여 결측지가 1개 있었음을 확인."
   ]
  },
  {
   "cell_type": "code",
   "execution_count": 1,
   "metadata": {},
   "outputs": [
    {
     "name": "stdout",
     "output_type": "stream",
     "text": [
      "처리 이전 리뷰 데이터 수: 2890건\n",
      "처리 이후 리뷰 데이터 수: 2889건\n"
     ]
    }
   ],
   "source": [
    "import pandas as pd\n",
    "import numpy as np\n",
    "\n",
    "# 데이터 로드\n",
    "file_path = './wine_review.csv'\n",
    "wine_data = pd.read_csv(file_path)\n",
    "\n",
    "initial_review_count = wine_data.shape[0]\n",
    "\n",
    "# 리뷰열에서 결측값 처리\n",
    "wine_data = wine_data.dropna(subset=['reviews.text'])\n",
    "\n",
    "# 전처리 작업 후 리뷰 데이터의 수\n",
    "processed_review_count = wine_data.shape[0]\n",
    "\n",
    "print(f\"처리 이전 리뷰 데이터 수: {initial_review_count}건\")\n",
    "print(f\"처리 이후 리뷰 데이터 수: {processed_review_count}건\")"
   ]
  },
  {
   "cell_type": "markdown",
   "metadata": {},
   "source": [
    "2.2 텍스트 토큰화 및 불용어 제거\n",
    "\n",
    "NLTK 라이브러리를 사용하여 텍스트 데이터를 토큰화\n",
    "\n",
    "분석에 방해가 되는 노이즈(불용어, 특수 문자, 숫자)를 제거합니다.\n"
   ]
  },
  {
   "cell_type": "code",
   "execution_count": 6,
   "metadata": {},
   "outputs": [
    {
     "name": "stdout",
     "output_type": "stream",
     "text": [
      "Requirement already satisfied: nltk in /usr/local/python/3.10.13/lib/python3.10/site-packages (3.8.1)\n",
      "Requirement already satisfied: click in /usr/local/python/3.10.13/lib/python3.10/site-packages (from nltk) (8.1.7)\n",
      "Requirement already satisfied: joblib in /home/codespace/.local/lib/python3.10/site-packages (from nltk) (1.4.2)\n",
      "Requirement already satisfied: regex>=2021.8.3 in /usr/local/python/3.10.13/lib/python3.10/site-packages (from nltk) (2024.5.15)\n",
      "Requirement already satisfied: tqdm in /usr/local/python/3.10.13/lib/python3.10/site-packages (from nltk) (4.66.4)\n",
      "Note: you may need to restart the kernel to use updated packages.\n"
     ]
    },
    {
     "name": "stderr",
     "output_type": "stream",
     "text": [
      "[nltk_data] Downloading package vader_lexicon to\n",
      "[nltk_data]     /home/codespace/nltk_data...\n",
      "[nltk_data]   Package vader_lexicon is already up-to-date!\n",
      "[nltk_data] Downloading package punkt to /home/codespace/nltk_data...\n",
      "[nltk_data]   Package punkt is already up-to-date!\n",
      "[nltk_data] Downloading package stopwords to\n",
      "[nltk_data]     /home/codespace/nltk_data...\n",
      "[nltk_data]   Package stopwords is already up-to-date!\n"
     ]
    }
   ],
   "source": [
    "%pip install nltk \n",
    "import re # 정규 표현식 라이브러리\n",
    "import nltk # 자연어 처리 라이브러리\n",
    "from nltk.corpus import stopwords # 불용어 리스트 제공 모듈\n",
    "from nltk.tokenize import word_tokenize # 단어 토큰화 모듈\n",
    "from sklearn.model_selection import train_test_split, cross_val_score # 데이터 분할 및 교차 검증 모듈\n",
    "from sklearn.metrics import classification_report, confusion_matrix, roc_auc_score, roc_curve, auc  # 모델 평가 모듈\n",
    "nltk.download('vader_lexicon')  # VADER 감정 분석기에 필요한 어휘 자료\n",
    "nltk.download('punkt') # 토큰화를 위한 데이터\n",
    "nltk.download('stopwords') # 불용어 리스트\n",
    "\n",
    "stop_words = set(stopwords.words('english'))\n",
    "\n",
    "def preprocess_text(text):\n",
    "    # 소문자로 변환\n",
    "    text = text.lower()\n",
    "    # 특수 문자 제거\n",
    "    text = re.sub(r'\\W', ' ', text)\n",
    "    # 숫자 제거\n",
    "    text = re.sub(r'\\d', ' ', text)\n",
    "    # 단어 토큰화\n",
    "    tokens = word_tokenize(text)\n",
    "    # 불용어 제거 및 알파벳 문자인 단어만 남기기\n",
    "    tokens = [word for word in tokens if word.isalpha() and word.lower() not in stop_words]\n",
    "    # 각 토큰을 스테밍하여 어간 추출\n",
    "    stemmed_tokens = [stemmer.stem(token) for token in tokens]\n",
    "    # 스테밍된 토큰들을 공백으로 결합하여 반환\n",
    "    return ' '.join(stemmed_tokens)\n",
    "\n",
    "# 리뷰 텍스트에 전처리 함수 적용\n",
    "wine_data['processed_text'] = wine_data['reviews.text'].apply(preprocess_text)"
   ]
  },
  {
   "cell_type": "code",
   "execution_count": 7,
   "metadata": {},
   "outputs": [
    {
     "name": "stdout",
     "output_type": "stream",
     "text": [
      "   original_word_count  processed_word_count\n",
      "0                    9                     4\n",
      "1                   10                     4\n",
      "2                   29                    10\n",
      "3                   11                     5\n",
      "4                   76                    29\n",
      "5                   47                    19\n",
      "6                   26                    11\n",
      "7                   82                    35\n",
      "8                    4                     2\n",
      "9                   28                    14\n",
      "처리 이전 평균 단어 수: 39.13\n",
      "처리 이후 평균 단어 수: 17.29\n"
     ]
    }
   ],
   "source": [
    "# 전처리 전후의 단어 수 비교 함수\n",
    "def compare_word_counts(row):\n",
    "    original_text = row['reviews.text']\n",
    "    processed_text = row['processed_text']\n",
    "    \n",
    "    original_word_count = len(word_tokenize(original_text))\n",
    "    processed_word_count = len(word_tokenize(processed_text))\n",
    "    \n",
    "    return original_word_count, processed_word_count\n",
    "\n",
    "# 샘플 데이터에 적용하여 결과 확인\n",
    "sample_data = wine_data.head(10).apply(compare_word_counts, axis=1)\n",
    "sample_data = pd.DataFrame(sample_data.tolist(), columns=['original_word_count', 'processed_word_count'])\n",
    "\n",
    "print(sample_data)\n",
    "\n",
    "# 전체 데이터셋에 대한 평균 단어 수 비교\n",
    "average_original_word_count = wine_data['reviews.text'].apply(lambda x: len(word_tokenize(x))).mean()\n",
    "average_processed_word_count = wine_data['processed_text'].apply(lambda x: len(word_tokenize(x))).mean()\n",
    "\n",
    "print(f\"처리 이전 평균 단어 수: {average_original_word_count:.2f}\")\n",
    "print(f\"처리 이후 평균 단어 수: {average_processed_word_count:.2f}\")"
   ]
  },
  {
   "cell_type": "markdown",
   "metadata": {},
   "source": [
    "2.3 텍스트 정규화 (스테밍 또는 표제어 추출)\n",
    "\n",
    "NLTK의 PorterStemmer를 사용하여 텍스트를 정규화합니다."
   ]
  },
  {
   "cell_type": "code",
   "execution_count": 8,
   "metadata": {},
   "outputs": [
    {
     "name": "stdout",
     "output_type": "stream",
     "text": [
      "                                        reviews.text  \\\n",
      "0      This a fantastic white wine for any occasion!   \n",
      "1   Tart, not sweet...very refreshing and delicious!   \n",
      "2  I was given this wine so it was a delightful s...   \n",
      "3  This is a phenomenal wine and my new favorite ...   \n",
      "4  4 750ml bottles for the price of two With way ...   \n",
      "\n",
      "                                      processed_text  \n",
      "0                           fantast white wine occas  \n",
      "1                          tart sweet refresh delici  \n",
      "2  given wine delight surpris find flavor delici ...  \n",
      "3                      phenomen wine new favorit red  \n",
      "4  ml bottl price two way less packag ye pleas ne...  \n"
     ]
    }
   ],
   "source": [
    "# 샘플 결과 확인\n",
    "print(wine_data[['reviews.text', 'processed_text']].head())"
   ]
  },
  {
   "cell_type": "markdown",
   "metadata": {},
   "source": [
    "3. 모델 선택 및 학습\n",
    "\n",
    "3.1 모델 선택\n",
    "\n",
    "NLTK의 VADER 감정 분석기를 사용하여 감성 분석을 수행합니다."
   ]
  },
  {
   "cell_type": "code",
   "execution_count": 9,
   "metadata": {},
   "outputs": [],
   "source": [
    "from nltk.sentiment.vader import SentimentIntensityAnalyzer\n",
    "\n",
    "# VADER 감정 분석기 초기화\n",
    "sia = SentimentIntensityAnalyzer()\n",
    "\n",
    "# 감성 분석 함수 정의\n",
    "def analyze_sentiment(text):\n",
    "    scores = sia.polarity_scores(text)\n",
    "    if scores['compound'] >= 0.05:\n",
    "        return 'positive'\n",
    "    elif scores['compound'] <= -0.05:\n",
    "        return 'negative'\n",
    "    else:\n",
    "        return 'neutral'\n",
    "\n",
    "wine_data['sentiment'] = wine_data['processed_text'].apply(analyze_sentiment)"
   ]
  },
  {
   "cell_type": "markdown",
   "metadata": {},
   "source": [
    "3.2 데이터셋 분할\n",
    "\n",
    "데이터를 학습 세트와 테스트 세트로 분할합니다."
   ]
  },
  {
   "cell_type": "code",
   "execution_count": 10,
   "metadata": {},
   "outputs": [],
   "source": [
    "from sklearn.model_selection import train_test_split\n",
    "\n",
    "# 학습 세트와 테스트 세트로 분할\n",
    "train_data, test_data = train_test_split(wine_data, test_size=0.2, random_state=42)"
   ]
  },
  {
   "cell_type": "markdown",
   "metadata": {},
   "source": [
    "4. 모델 평가\n",
    "\n",
    "4.1 평가 지표\n",
    "\n",
    "모델의 성능을 정확도, 정밀도, 재현율, F1 점수 및 ROC-AUC와 같은 지표를 사용하여 평가합니다."
   ]
  },
  {
   "cell_type": "code",
   "execution_count": 11,
   "metadata": {},
   "outputs": [
    {
     "name": "stdout",
     "output_type": "stream",
     "text": [
      "              precision    recall  f1-score   support\n",
      "\n",
      "    negative       1.00      1.00      1.00        47\n",
      "     neutral       1.00      1.00      1.00        88\n",
      "    positive       1.00      1.00      1.00       443\n",
      "\n",
      "    accuracy                           1.00       578\n",
      "   macro avg       1.00      1.00      1.00       578\n",
      "weighted avg       1.00      1.00      1.00       578\n",
      "\n"
     ]
    }
   ],
   "source": [
    "from sklearn.metrics import classification_report, confusion_matrix\n",
    "\n",
    "# 테스트 데이터에 대한 예측\n",
    "test_data['predicted_sentiment'] = test_data['processed_text'].apply(analyze_sentiment)\n",
    "\n",
    "# 평가 지표 계산\n",
    "print(classification_report(test_data['sentiment'], test_data['predicted_sentiment']))"
   ]
  },
  {
   "cell_type": "markdown",
   "metadata": {},
   "source": [
    "5. 시각화 및 해석\n",
    "\n",
    "5.1 혼동 행렬 및 ROC 곡선\n",
    "\n",
    "Matplotlib를 사용하여 혼동 행렬과 ROC 곡선을 시각화합니다."
   ]
  },
  {
   "cell_type": "code",
   "execution_count": 12,
   "metadata": {},
   "outputs": [
    {
     "data": {
      "image/png": "[encoded data removed]",
      "text/plain": [
       "<Figure size 640x480 with 2 Axes>"
      ]
     },
     "metadata": {},
     "output_type": "display_data"
    }
   ],
   "source": [
    "import matplotlib.pyplot as plt\n",
    "import seaborn as sns\n",
    "\n",
    "# 혼동 행렬 생성\n",
    "conf_matrix = confusion_matrix(test_data['sentiment'], test_data['predicted_sentiment'])\n",
    "sns.heatmap(conf_matrix, annot=True, fmt='d', cmap='Blues')\n",
    "plt.xlabel('Predicted')\n",
    "plt.ylabel('Actual')\n",
    "plt.title('Confusion Matrix')\n",
    "plt.show()\n"
   ]
  },
  {
   "cell_type": "code",
   "execution_count": 13,
   "metadata": {},
   "outputs": [],
   "source": [
    "# ROC 곡선 및 AUC 계산\n",
    "y_true = test_data['sentiment'].apply(lambda x: 1 if x == 'positive' else 0)\n",
    "y_scores = test_data['processed_text'].apply(lambda x: sia.polarity_scores(x)['compound'])\n",
    "fpr, tpr, _ = roc_curve(y_true, y_scores)\n",
    "roc_auc = auc(fpr, tpr)"
   ]
  },
  {
   "cell_type": "code",
   "execution_count": 14,
   "metadata": {},
   "outputs": [
    {
     "data": {
      "image/png": "[encoded data removed]",
      "text/plain": [
       "<Figure size 640x480 with 1 Axes>"
      ]
     },
     "metadata": {},
     "output_type": "display_data"
    }
   ],
   "source": [
    "plt.figure()\n",
    "plt.plot(fpr, tpr, color='darkorange', lw=2, label=f'ROC curve (area = {roc_auc:0.2f})')\n",
    "plt.plot([0, 1], [0, 1], color='navy', lw=2, linestyle='--')\n",
    "plt.xlim([0.0, 1.0])\n",
    "plt.ylim([0.0, 1.05])\n",
    "plt.xlabel('False Positive Rate')\n",
    "plt.ylabel('True Positive Rate')\n",
    "plt.title('Receiver Operating Characteristic')\n",
    "plt.legend(loc='lower right')\n",
    "plt.show()"
   ]
  }
 ],
 "metadata": {
  "kernelspec": {
   "display_name": "Python 3",
   "language": "python",
   "name": "python3"
  },
  "language_info": {
   "codemirror_mode": {
    "name": "ipython",
    "version": 3
   },
   "file_extension": ".py",
   "mimetype": "text/x-python",
   "name": "python",
   "nbconvert_exporter": "python",
   "pygments_lexer": "ipython3",
   "version": "3.10.13"
  }
 },
 "nbformat": 4,
 "nbformat_minor": 2
}
